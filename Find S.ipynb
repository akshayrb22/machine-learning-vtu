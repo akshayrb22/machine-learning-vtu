{
 "cells": [
  {
   "cell_type": "code",
   "execution_count": 3,
   "metadata": {},
   "outputs": [
    {
     "name": "stdout",
     "output_type": "stream",
     "text": [
      "[['sunny' 'warm' 'normal' 'strong' 'warm' 'same' 'yes']\n",
      " ['sunny' 'warm' 'high' 'strong' 'warm' 'same' 'yes']\n",
      " ['rainy' 'cold' 'high' 'strong' 'warm' 'change' 'no']\n",
      " ['sunny' 'warm' 'high' 'strong' 'cool' 'change' 'yes']]\n"
     ]
    }
   ],
   "source": [
    "import pandas as pd \t\t\t\t#Pandas must be installed.Pandas used for reading data from .csv file. \n",
    "from pandas import DataFrame \n",
    "data = DataFrame.from_csv('enjoysport.csv')#ensure csv file exists in the same folder as the python code.\n",
    "columnLength= data.shape[1]\t\t\t#obtain number of columns\n",
    "print (data.values)"
   ]
  },
  {
   "cell_type": "code",
   "execution_count": 6,
   "metadata": {},
   "outputs": [],
   "source": [
    "h = ['0']*(columnLength-1)\n",
    "hp=[]\t\t\t\t\t\t\t\t#initialize list hp i.e list of hypotheses for positive training examples\n",
    "hn=[]\t"
   ]
  },
  {
   "cell_type": "code",
   "execution_count": 7,
   "metadata": {},
   "outputs": [],
   "source": [
    "for trainingExample in data.values:\t\t\t#this loop is used to build the hypothesis list for every row.\n",
    "    if trainingExample[-1]!='no':\t#if the trainingExample is positive, then it is appended to hp else to hn\n",
    "        hp.append(list(trainingExample))\n",
    "    else:\n",
    "        hn.append(list(trainingExample))"
   ]
  },
  {
   "cell_type": "code",
   "execution_count": 8,
   "metadata": {
    "collapsed": true
   },
   "outputs": [],
   "source": [
    "for i in range (len(hp)):\t\t\t#update the hypothesis h from most specific to maximally specific\n",
    "\tfor j in range(columnLength-1):\t#if the hypothesis attribute value is 0, it is updated to the attributes in the first hypothesis\n",
    "\t\tif (h[j]=='0'):\t\t\t\t\n",
    "\t\t\th[j]=hp[i][j]\t\t\t\n",
    "\t\tif (h[j]!=hp[i][j]):\t\t#if the attribute value in the hypothesis is not same as the attribute value in the successive hypotheses\n",
    "\t\t\th[j]='?'\t\t\t\t#then it is updated to '?' indicating that any value is acceptable.\n",
    "\t\telse:\t\t\t\t\t\t#if the attribute in the hypothesis is the same as the attribute value in the successive hypotheses\n",
    "\t\t\th[j]=hp[i][j]\t\t\t#then the same attribute value is retained"
   ]
  },
  {
   "cell_type": "code",
   "execution_count": 9,
   "metadata": {},
   "outputs": [
    {
     "name": "stdout",
     "output_type": "stream",
     "text": [
      "\n",
      "The positive Hypotheses are\n",
      "[['sunny', 'warm', 'normal', 'strong', 'warm', 'same', 'yes'], ['sunny', 'warm', 'high', 'strong', 'warm', 'same', 'yes'], ['sunny', 'warm', 'high', 'strong', 'cool', 'change', 'yes']]\n",
      "\n",
      "The negative Hypotheses are\n",
      "[['rainy', 'cold', 'high', 'strong', 'warm', 'change', 'no']]\n",
      "\n",
      "The Maximally Specific Hypothesis h is\n",
      "['sunny', 'warm', '?', 'strong', '?', '?']\n"
     ]
    }
   ],
   "source": [
    "print('\\nThe positive Hypotheses are')\n",
    "print(hp)\n",
    "print('\\nThe negative Hypotheses are')\t\t\t\n",
    "print(hn)\n",
    "print('\\nThe Maximally Specific Hypothesis h is')\n",
    "print(h)"
   ]
  },
  {
   "cell_type": "code",
   "execution_count": null,
   "metadata": {
    "collapsed": true
   },
   "outputs": [],
   "source": []
  }
 ],
 "metadata": {
  "kernelspec": {
   "display_name": "Python 3",
   "language": "python",
   "name": "python3"
  },
  "language_info": {
   "codemirror_mode": {
    "name": "ipython",
    "version": 3
   },
   "file_extension": ".py",
   "mimetype": "text/x-python",
   "name": "python",
   "nbconvert_exporter": "python",
   "pygments_lexer": "ipython3",
   "version": "3.6.3"
  }
 },
 "nbformat": 4,
 "nbformat_minor": 2
}
